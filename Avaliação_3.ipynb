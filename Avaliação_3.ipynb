{
  "nbformat": 4,
  "nbformat_minor": 0,
  "metadata": {
    "colab": {
      "name": "Avaliação_3.ipynb",
      "provenance": []
    },
    "kernelspec": {
      "name": "python3",
      "display_name": "Python 3"
    },
    "language_info": {
      "name": "python"
    },
    "accelerator": "GPU",
    "gpuClass": "standard"
  },
  "cells": [
    {
      "cell_type": "markdown",
      "source": [
        "# **Avaliação 3:**\n",
        "\n",
        "Trabalharemos neste exercício o seu aprendizado com relação à importação de base de dados de arquivos externos, para manipulação das informações que estão nele contidas, a partir da biblioteca pandas. \n",
        "\n",
        "Como você sabe, os arquivos CSV, como os que você trabalhará aqui, são um tipo de formato de texto que armazena informações de tabelas em planilhas, mas com valores comumente separados por vírgulas (e por isso sua sigla, CSV, Comma Separated Values), sendo facilmente importados e exportados para programas que utilizam/armazenam dados em forma de tabelas. Vejam que a palavra comumente significa nem sempre, e outros separadores podem aparecer como ; ou /.\n",
        "\n",
        "Neste exercício, trabalharemos com bancos de dados retirados do Portal Brasileiro de Dados Abertos (https://dados.gov.br/), relacionados à produção de petróleo e gás natural nacionais.\n",
        "\n",
        "Serão utilizadas planilhas, tanto de extração por mar e extração por terra,  do período entre 1998 e 2000.\n",
        "\n",
        "**Algumas considerações**:\n",
        "\n",
        "Atentem-se que os números estão no padrão brasileiro, assim para que o seu código possa fazer cálculos, é preciso primeiro tratar os números, trocando a ',' por '.'.\n",
        "\n",
        "Lembrem-se de utilizar um método que retorne apenas um exemplar de cada informação dada, por coluna.\n"
      ],
      "metadata": {
        "id": "OIPtwf-CXo0y"
      }
    },
    {
      "cell_type": "markdown",
      "source": [
        "\n",
        "*Considerando estes arquivos fornecidos e as considerações feitas, implemente códigos que forneçam as seguintes informações:*\n",
        "\n",
        "---\n",
        "\n"
      ],
      "metadata": {
        "id": "D9sUHJ6jlL4T"
      }
    },
    {
      "cell_type": "markdown",
      "source": [
        "**Questão 1 (1 ponto):** Qual o valor da produção de condensado no período de Março de 1998 a Março de 2000?"
      ],
      "metadata": {
        "id": "PY-RQB-HX6IM"
      }
    },
    {
      "cell_type": "code",
      "execution_count": null,
      "metadata": {
        "id": "RVO3LLR-WtbY"
      },
      "outputs": [],
      "source": [
        ""
      ]
    },
    {
      "cell_type": "markdown",
      "source": [
        "**Questão 2 (1 ponto):** Quanto que a Bahia produziu de Óleo, na extração por mar, no período de Março de 1998 a Março de 2000?"
      ],
      "metadata": {
        "id": "2PjZDT19Z_Du"
      }
    },
    {
      "cell_type": "code",
      "source": [
        ""
      ],
      "metadata": {
        "id": "OxIr411MaEYm"
      },
      "execution_count": null,
      "outputs": []
    },
    {
      "cell_type": "markdown",
      "source": [
        "**Questão 3 (1 ponto):** Em quantos estados houve exploração de petróleo por mar no Brasil, no período de Março de 1998 a Março de 2000?"
      ],
      "metadata": {
        "id": "x1Cg4hnWcGa0"
      }
    },
    {
      "cell_type": "code",
      "source": [
        ""
      ],
      "metadata": {
        "id": "uiEZ6D-vby-k"
      },
      "execution_count": null,
      "outputs": []
    },
    {
      "cell_type": "markdown",
      "source": [
        "**Questão 4 (1 ponto):** Quantos poços de extração por mar diferentes existiu na Bahia, no período de Março de 1998 a Março de 2000?"
      ],
      "metadata": {
        "id": "c8fgX75La7oB"
      }
    },
    {
      "cell_type": "code",
      "source": [
        ""
      ],
      "metadata": {
        "id": "A33ykW8wbEyw"
      },
      "execution_count": null,
      "outputs": []
    },
    {
      "cell_type": "markdown",
      "source": [
        "**Questão 5 (3 pontos):** Considerando todos os arquivos, quanto que o estado de Espírito Santo produziu de Gás Associado?"
      ],
      "metadata": {
        "id": "wgqxWU8JdpP8"
      }
    },
    {
      "cell_type": "code",
      "source": [
        ""
      ],
      "metadata": {
        "id": "SLhxH1XPddrD"
      },
      "execution_count": null,
      "outputs": []
    },
    {
      "cell_type": "markdown",
      "source": [
        "**Questão 6 (3 pontos):** Considerando todos os arquivos de extração na Terra, qual o período de menor e maior produção de Gás Não Associado?"
      ],
      "metadata": {
        "id": "Il7GVwDJfKpp"
      }
    },
    {
      "cell_type": "code",
      "source": [
        ""
      ],
      "metadata": {
        "id": "90Tx_7uHfYX_"
      },
      "execution_count": null,
      "outputs": []
    },
    {
      "cell_type": "markdown",
      "source": [
        "**Observações:**\n",
        "- Em todas as questões, você deve comentar o seu código explicando seu raciocínio.\n",
        "- Este arquivo deve ser renomeado com seu nome completo e número USP. Por exemplo, FernandoPereiraSantos_0000000\n",
        "- Este arquivo deve ser submetido no e-disciplinas no diretório disponibilizado.\n",
        "- O prazo de entrega será até o dia 15/07 às 23:59. "
      ],
      "metadata": {
        "id": "ePz5pKIMQoD5"
      }
    }
  ]
}